{
 "cells": [
  {
   "cell_type": "markdown",
   "id": "e5d3323a-e94e-4e3f-845a-e724e3bd17fe",
   "metadata": {},
   "source": [
    "# Análise comparativa de modelos"
   ]
  },
  {
   "cell_type": "code",
   "execution_count": 2,
   "id": "3ab83984-db98-4216-8f3e-04cf46ee3407",
   "metadata": {
    "tags": []
   },
   "outputs": [],
   "source": [
    "from IPython.display import display, Markdown\n",
    "import joblib\n",
    "import numpy as np\n",
    "import pandas as pd\n",
    "\n",
    "from sklearn.pipeline import Pipeline\n",
    "from sklearn.impute import SimpleImputer\n",
    "from sklearn.preprocessing import StandardScaler, MinMaxScaler, OneHotEncoder, OrdinalEncoder, LabelEncoder\n",
    "from sklearn.compose import ColumnTransformer\n",
    "from sklearn.linear_model import LogisticRegression\n",
    "\n",
    "from sklearn.neighbors import KNeighborsClassifier\n",
    "from sklearn.model_selection import ShuffleSplit, GridSearchCV, KFold, cross_validate\n",
    "from sklearn.svm import SVC\n",
    "from sklearn.tree import DecisionTreeClassifier\n",
    "from sklearn.ensemble import RandomForestClassifier"
   ]
  },
  {
   "cell_type": "markdown",
   "id": "95bdc85d-cb1b-4945-bf16-d0e5d897e41f",
   "metadata": {},
   "source": [
    "## 1. Obtenção de dados"
   ]
  },
  {
   "cell_type": "markdown",
   "id": "774061bf-b1cf-48e1-8ce5-bf44dec74687",
   "metadata": {},
   "source": [
    "Nessa etapa obtemos novamnete os arquivos brutos de dados e o dicionário antes de iniciar o pre-processamento."
   ]
  },
  {
   "cell_type": "code",
   "execution_count": 3,
   "id": "96b4a16e-8f76-49c8-8326-67741befaea4",
   "metadata": {
    "tags": []
   },
   "outputs": [
    {
     "data": {
      "text/html": [
       "<div>\n",
       "<style scoped>\n",
       "    .dataframe tbody tr th:only-of-type {\n",
       "        vertical-align: middle;\n",
       "    }\n",
       "\n",
       "    .dataframe tbody tr th {\n",
       "        vertical-align: top;\n",
       "    }\n",
       "\n",
       "    .dataframe thead th {\n",
       "        text-align: right;\n",
       "    }\n",
       "</style>\n",
       "<table border=\"1\" class=\"dataframe\">\n",
       "  <thead>\n",
       "    <tr style=\"text-align: right;\">\n",
       "      <th></th>\n",
       "      <th>variavel</th>\n",
       "      <th>descricao</th>\n",
       "      <th>tipo</th>\n",
       "      <th>subtipo</th>\n",
       "    </tr>\n",
       "  </thead>\n",
       "  <tbody>\n",
       "    <tr>\n",
       "      <th>0</th>\n",
       "      <td>survived</td>\n",
       "      <td>Indica se o passageiro sobreviveu ou não.</td>\n",
       "      <td>qualitativa</td>\n",
       "      <td>nominal</td>\n",
       "    </tr>\n",
       "    <tr>\n",
       "      <th>1</th>\n",
       "      <td>pclass</td>\n",
       "      <td>Indica a classe do passageiro usando números i...</td>\n",
       "      <td>qualitativa</td>\n",
       "      <td>ordinal</td>\n",
       "    </tr>\n",
       "    <tr>\n",
       "      <th>2</th>\n",
       "      <td>sex</td>\n",
       "      <td>Indica o gênero do passageiro.</td>\n",
       "      <td>qualitativa</td>\n",
       "      <td>nominal</td>\n",
       "    </tr>\n",
       "    <tr>\n",
       "      <th>3</th>\n",
       "      <td>age</td>\n",
       "      <td>Indica a idade do passageiro.</td>\n",
       "      <td>quantitativa</td>\n",
       "      <td>contínua</td>\n",
       "    </tr>\n",
       "    <tr>\n",
       "      <th>4</th>\n",
       "      <td>sibsp</td>\n",
       "      <td>Indica a quantidade de irmãos e/ou conjuguês a...</td>\n",
       "      <td>quantitativa</td>\n",
       "      <td>discreta</td>\n",
       "    </tr>\n",
       "    <tr>\n",
       "      <th>5</th>\n",
       "      <td>parch</td>\n",
       "      <td>indica a quantidade de pais e/ou filhos a bordo.</td>\n",
       "      <td>quantitativa</td>\n",
       "      <td>discreta</td>\n",
       "    </tr>\n",
       "    <tr>\n",
       "      <th>6</th>\n",
       "      <td>fare</td>\n",
       "      <td>indica o valor da tarifa paga pelo passageiro.</td>\n",
       "      <td>quantitativa</td>\n",
       "      <td>contínua</td>\n",
       "    </tr>\n",
       "    <tr>\n",
       "      <th>7</th>\n",
       "      <td>embarked</td>\n",
       "      <td>indica o porto de embarcação do passageiro.</td>\n",
       "      <td>qualitativa</td>\n",
       "      <td>nominal</td>\n",
       "    </tr>\n",
       "    <tr>\n",
       "      <th>8</th>\n",
       "      <td>class</td>\n",
       "      <td>Indica a classe do passageiro usando string.</td>\n",
       "      <td>qualitativa</td>\n",
       "      <td>ordinal</td>\n",
       "    </tr>\n",
       "    <tr>\n",
       "      <th>9</th>\n",
       "      <td>who</td>\n",
       "      <td>Indica se é um homem, mulher ou criança.</td>\n",
       "      <td>qualitativa</td>\n",
       "      <td>nominal</td>\n",
       "    </tr>\n",
       "    <tr>\n",
       "      <th>10</th>\n",
       "      <td>adult_male</td>\n",
       "      <td>Indica se o passageiro é um homem adulto.</td>\n",
       "      <td>qualitativa</td>\n",
       "      <td>nominal</td>\n",
       "    </tr>\n",
       "    <tr>\n",
       "      <th>11</th>\n",
       "      <td>deck</td>\n",
       "      <td>Indica o convés  do navio.</td>\n",
       "      <td>qualitativa</td>\n",
       "      <td>ordinal</td>\n",
       "    </tr>\n",
       "    <tr>\n",
       "      <th>12</th>\n",
       "      <td>embark_town</td>\n",
       "      <td>Indica a cidade de embarque d passageiro.</td>\n",
       "      <td>qualitativa</td>\n",
       "      <td>nominal</td>\n",
       "    </tr>\n",
       "    <tr>\n",
       "      <th>13</th>\n",
       "      <td>alive</td>\n",
       "      <td>Indica se o passageiro está vivo.</td>\n",
       "      <td>qualitativa</td>\n",
       "      <td>nominal</td>\n",
       "    </tr>\n",
       "    <tr>\n",
       "      <th>14</th>\n",
       "      <td>alone</td>\n",
       "      <td>Indica se o passageiro estava sozinho.</td>\n",
       "      <td>qualitativa</td>\n",
       "      <td>nominal</td>\n",
       "    </tr>\n",
       "  </tbody>\n",
       "</table>\n",
       "</div>"
      ],
      "text/plain": [
       "       variavel                                          descricao  \\\n",
       "0      survived          Indica se o passageiro sobreviveu ou não.   \n",
       "1        pclass  Indica a classe do passageiro usando números i...   \n",
       "2           sex                     Indica o gênero do passageiro.   \n",
       "3           age                      Indica a idade do passageiro.   \n",
       "4         sibsp  Indica a quantidade de irmãos e/ou conjuguês a...   \n",
       "5         parch   indica a quantidade de pais e/ou filhos a bordo.   \n",
       "6          fare     indica o valor da tarifa paga pelo passageiro.   \n",
       "7      embarked        indica o porto de embarcação do passageiro.   \n",
       "8         class       Indica a classe do passageiro usando string.   \n",
       "9           who           Indica se é um homem, mulher ou criança.   \n",
       "10   adult_male          Indica se o passageiro é um homem adulto.   \n",
       "11         deck                         Indica o convés  do navio.   \n",
       "12  embark_town          Indica a cidade de embarque d passageiro.   \n",
       "13        alive                  Indica se o passageiro está vivo.   \n",
       "14        alone             Indica se o passageiro estava sozinho.   \n",
       "\n",
       "            tipo   subtipo  \n",
       "0    qualitativa   nominal  \n",
       "1    qualitativa   ordinal  \n",
       "2    qualitativa   nominal  \n",
       "3   quantitativa  contínua  \n",
       "4   quantitativa  discreta  \n",
       "5   quantitativa  discreta  \n",
       "6   quantitativa  contínua  \n",
       "7    qualitativa   nominal  \n",
       "8    qualitativa   ordinal  \n",
       "9    qualitativa   nominal  \n",
       "10   qualitativa   nominal  \n",
       "11   qualitativa   ordinal  \n",
       "12   qualitativa   nominal  \n",
       "13   qualitativa   nominal  \n",
       "14   qualitativa   nominal  "
      ]
     },
     "execution_count": 3,
     "metadata": {},
     "output_type": "execute_result"
    }
   ],
   "source": [
    "df = pd.read_csv(\"../data/raw/data.csv\")\n",
    "df_dict = pd.read_csv(\"../data/external/dictionary.csv\")\n",
    "df_dict"
   ]
  },
  {
   "cell_type": "markdown",
   "id": "f3d0adf3-c0d4-4ec1-a2f5-2c7222c113ba",
   "metadata": {},
   "source": [
    "## 2. Preparação de dados"
   ]
  },
  {
   "cell_type": "markdown",
   "id": "6c3dc5fd-a7cf-4207-840d-13018531773e",
   "metadata": {},
   "source": [
    "## 3. Seleção de modelos"
   ]
  },
  {
   "cell_type": "markdown",
   "id": "fe91f508-f90b-402d-a319-5dc851367b5c",
   "metadata": {},
   "source": [
    "### 3.1 Resultados gerais"
   ]
  },
  {
   "cell_type": "markdown",
   "id": "365a9052-32e5-4335-b3de-6e6ba50d4742",
   "metadata": {},
   "source": [
    "### 3.2 Persistência do modelo"
   ]
  },
  {
   "cell_type": "code",
   "execution_count": null,
   "id": "e4f6076d-8326-48cc-9c8b-7876008d1b3a",
   "metadata": {},
   "outputs": [],
   "source": []
  }
 ],
 "metadata": {
  "kernelspec": {
   "display_name": "Python 3 (ipykernel)",
   "language": "python",
   "name": "python3"
  },
  "language_info": {
   "codemirror_mode": {
    "name": "ipython",
    "version": 3
   },
   "file_extension": ".py",
   "mimetype": "text/x-python",
   "name": "python",
   "nbconvert_exporter": "python",
   "pygments_lexer": "ipython3",
   "version": "3.10.11"
  }
 },
 "nbformat": 4,
 "nbformat_minor": 5
}
